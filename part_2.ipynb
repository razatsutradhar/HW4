{
 "cells": [
  {
   "cell_type": "code",
   "execution_count": 1,
   "metadata": {},
   "outputs": [
    {
     "name": "stdout",
     "output_type": "stream",
     "text": [
      "Collecting qrtools\n",
      "  Using cached qrtools-0.0.2.tar.gz (10 kB)\n",
      "Building wheels for collected packages: qrtools\n",
      "  Building wheel for qrtools (setup.py): started\n",
      "  Building wheel for qrtools (setup.py): finished with status 'done'\n",
      "  Created wheel for qrtools: filename=qrtools-0.0.2-py3-none-any.whl size=11226 sha256=1f94a1cd729ffde86dac86dcb6ade1b77b2bcbb4deff13d0eed254f3eee44499\n",
      "  Stored in directory: c:\\users\\razat\\appdata\\local\\pip\\cache\\wheels\\a6\\8e\\a1\\d74d2cf2d3fcfd7e21ac2fa969dfc2d9d707ef5bf1241511e7\n",
      "Successfully built qrtools\n",
      "Installing collected packages: qrtools\n",
      "Successfully installed qrtools-0.0.2\n"
     ]
    }
   ],
   "source": [
    "!pip install qrtools"
   ]
  },
  {
   "cell_type": "code",
   "execution_count": 4,
   "metadata": {},
   "outputs": [
    {
     "name": "stdout",
     "output_type": "stream",
     "text": [
      "Requirement already satisfied: Pillow in c:\\users\\razat\\anaconda3\\lib\\site-packages (8.4.0)\n"
     ]
    }
   ],
   "source": [
    "!pip install Pillow"
   ]
  },
  {
   "cell_type": "code",
   "execution_count": 5,
   "metadata": {},
   "outputs": [
    {
     "name": "stdout",
     "output_type": "stream",
     "text": [
      "Collecting pyzbar\n",
      "  Using cached pyzbar-0.1.9-py2.py3-none-win_amd64.whl (817 kB)\n",
      "Installing collected packages: pyzbar\n",
      "Successfully installed pyzbar-0.1.9\n"
     ]
    }
   ],
   "source": [
    "!pip install pyzbar"
   ]
  },
  {
   "cell_type": "code",
   "execution_count": 1,
   "metadata": {},
   "outputs": [],
   "source": [
    "import pyzbar.pyzbar as pyzbar\n",
    "import numpy as np\n",
    "import cv2"
   ]
  },
  {
   "cell_type": "code",
   "execution_count": 2,
   "metadata": {},
   "outputs": [],
   "source": [
    "def read_barcodes(frame):\n",
    "    barcodes = pyzbar.decode(frame)\n",
    "    for barcode in barcodes:\n",
    "        x, y , w, h = barcode.rect\n",
    "        #1\n",
    "        barcode_info = barcode.data.decode('utf-8')\n",
    "        cv2.rectangle(frame, (x, y),(x+w, y+h), (0, 255, 0), 2)\n",
    "        \n",
    "        #2\n",
    "        font = cv2.FONT_HERSHEY_DUPLEX\n",
    "        cv2.putText(frame, barcode_info, (x + 6, y - 6), font, 2.0, (255, 255, 255), 1)\n",
    "        #3\n",
    "        print(barcode_info)\n",
    "    return frame"
   ]
  },
  {
   "cell_type": "code",
   "execution_count": 3,
   "metadata": {},
   "outputs": [
    {
     "name": "stdout",
     "output_type": "stream",
     "text": [
      "https://www.linkedin.com/in/razat-sutradhar?fromQR=1\n"
     ]
    }
   ],
   "source": [
    "frame = cv2.imread('my_qr_code.jpg')\n",
    "frame = read_barcodes(frame)"
   ]
  }
 ],
 "metadata": {
  "kernelspec": {
   "display_name": "Python 3.9.7 ('base')",
   "language": "python",
   "name": "python3"
  },
  "language_info": {
   "codemirror_mode": {
    "name": "ipython",
    "version": 3
   },
   "file_extension": ".py",
   "mimetype": "text/x-python",
   "name": "python",
   "nbconvert_exporter": "python",
   "pygments_lexer": "ipython3",
   "version": "3.9.7"
  },
  "orig_nbformat": 4,
  "vscode": {
   "interpreter": {
    "hash": "5a2fc1ab052b5ea03d35687895d874e32b6880721a9faa143e63f12bf35bd2cd"
   }
  }
 },
 "nbformat": 4,
 "nbformat_minor": 2
}
